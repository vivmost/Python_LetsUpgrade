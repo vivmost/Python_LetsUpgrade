{
 "cells": [
  {
   "cell_type": "markdown",
   "metadata": {},
   "source": [
    "# Q1"
   ]
  },
  {
   "cell_type": "code",
   "execution_count": 4,
   "metadata": {},
   "outputs": [],
   "source": [
    "def fibonacci_series():\n",
    "    number = int(input(\"enter the no: \"))\n",
    "    a = 0\n",
    "    b = 1\n",
    "    result = 0\n",
    "    print(a)\n",
    "    print(b)\n",
    "    for i in range (0,number -2):\n",
    "        result = a + b\n",
    "        a = b \n",
    "        b = result\n",
    "        print(result)"
   ]
  },
  {
   "cell_type": "code",
   "execution_count": 5,
   "metadata": {},
   "outputs": [
    {
     "name": "stdout",
     "output_type": "stream",
     "text": [
      "enter the no: 10\n",
      "0\n",
      "1\n",
      "1\n",
      "2\n",
      "3\n",
      "5\n",
      "8\n",
      "13\n",
      "21\n",
      "34\n"
     ]
    }
   ],
   "source": [
    "fibonacci_series()"
   ]
  },
  {
   "cell_type": "markdown",
   "metadata": {},
   "source": [
    "# Q2"
   ]
  },
  {
   "cell_type": "code",
   "execution_count": 19,
   "metadata": {},
   "outputs": [],
   "source": [
    "file1 = open(\"fantastic_five.txt\" , 'rb')\n",
    "file1.close()\n"
   ]
  },
  {
   "cell_type": "code",
   "execution_count": 20,
   "metadata": {},
   "outputs": [],
   "source": [
    "file1 = open(\"fantastic_five.txt\", 'w')\n",
    "file1.write(\"I love LetsUpgrade.\")\n",
    "file1.close()"
   ]
  },
  {
   "cell_type": "code",
   "execution_count": 21,
   "metadata": {},
   "outputs": [
    {
     "name": "stdout",
     "output_type": "stream",
     "text": [
      "I love LetsUpgrade.\n"
     ]
    }
   ],
   "source": [
    "file1 = open(\"fantastic_five.txt\" , 'r')\n",
    "print(file1.read())\n",
    "file1.close()"
   ]
  },
  {
   "cell_type": "code",
   "execution_count": 22,
   "metadata": {},
   "outputs": [],
   "source": [
    "file1 = open(\"fantastic_five.txt\" , 'a')\n",
    "file1.write(\" We all love Python Classes with LU.\")\n",
    "file1.close()"
   ]
  },
  {
   "cell_type": "code",
   "execution_count": 23,
   "metadata": {},
   "outputs": [
    {
     "name": "stdout",
     "output_type": "stream",
     "text": [
      "I love LetsUpgrade. We all love Python Classes with LU.\n"
     ]
    }
   ],
   "source": [
    "with open(\"fantastic_five.txt\", 'r') as f:\n",
    "    print(f.read())"
   ]
  },
  {
   "cell_type": "markdown",
   "metadata": {},
   "source": [
    "# Q3"
   ]
  },
  {
   "cell_type": "code",
   "execution_count": 6,
   "metadata": {},
   "outputs": [],
   "source": [
    "def movie_Recommender():\n",
    "    import random\n",
    "    Anime_movie = ['Dragon ball z' , 'Demon slayer' , 'Deathnote' , 'Seven deadly sins' , 'pokemon']\n",
    "    RomCom_movie = ['Big sick' , 'Tall girl' , 'Befikre' , 'Love simon' , 'mr. and mrs. smith' , 'lukka chuppi']\n",
    "    Action_movie = ['war' ,'inception' , 'deadpool 1' , 'deadpool 2' , 'MIB' , 'Shazam' , 'FNF' , '6 underground']\n",
    "    Thriller_movie = ['Sherlock holmes' , 'talaash' ,'bird box' , 'badla' , 'black wan' , 'dhoom' , 'race']\n",
    "    \n",
    "    print(\"Anime, RomCom, Action, Thriller\")\n",
    "    userInput = input(\"enter your option from below: \")\n",
    "    if(userInput == \"Anime\"):\n",
    "          print(\"2 random elements from the list are: \", random.sample(Anime_movie, 2))\n",
    "    elif(userInput == \"RomCom\"):\n",
    "          print(\"2 random elements from the list are: \", random.sample(RomCom_movie, 2))\n",
    "    elif(userInput == \"Action\" ):\n",
    "          print(\"2 random elements from the list are: \", random.sample(Action_movie, 2))\n",
    "    elif(userInput == \"Triller\"):\n",
    "          print(\"2 random elements from the list are: \", random.sample(Thriller_movie, 2))\n",
    "    \n",
    "          "
   ]
  },
  {
   "cell_type": "code",
   "execution_count": 15,
   "metadata": {},
   "outputs": [
    {
     "name": "stdout",
     "output_type": "stream",
     "text": [
      "Anime, RomCom, Action, Thriller\n",
      "enter your option from below: Action\n",
      "2 random elements from the list are:  ['deadpool 1', 'inception']\n"
     ]
    }
   ],
   "source": [
    "movie_Recommender()"
   ]
  },
  {
   "cell_type": "code",
   "execution_count": 17,
   "metadata": {},
   "outputs": [
    {
     "name": "stdout",
     "output_type": "stream",
     "text": [
      "Anime, RomCom, Action, Thriller\n",
      "enter your option from below: Action\n",
      "2 random elements from the list are:  ['war', 'MIB']\n"
     ]
    }
   ],
   "source": [
    "movie_Recommender()"
   ]
  },
  {
   "cell_type": "code",
   "execution_count": 18,
   "metadata": {},
   "outputs": [
    {
     "name": "stdout",
     "output_type": "stream",
     "text": [
      "Anime, RomCom, Action, Thriller\n",
      "enter your option from below: Action\n",
      "2 random elements from the list are:  ['MIB', 'inception']\n"
     ]
    }
   ],
   "source": [
    "movie_Recommender()"
   ]
  }
 ],
 "metadata": {
  "kernelspec": {
   "display_name": "Python 3",
   "language": "python",
   "name": "python3"
  },
  "language_info": {
   "codemirror_mode": {
    "name": "ipython",
    "version": 3
   },
   "file_extension": ".py",
   "mimetype": "text/x-python",
   "name": "python",
   "nbconvert_exporter": "python",
   "pygments_lexer": "ipython3",
   "version": "3.7.6"
  }
 },
 "nbformat": 4,
 "nbformat_minor": 4
}
