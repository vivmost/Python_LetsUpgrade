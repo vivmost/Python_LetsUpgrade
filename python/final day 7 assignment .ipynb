{
 "cells": [
  {
   "cell_type": "markdown",
   "metadata": {},
   "source": [
    "# Q1"
   ]
  },
  {
   "cell_type": "markdown",
   "metadata": {},
   "source": [
    "## method 1 "
   ]
  },
  {
   "cell_type": "code",
   "execution_count": 1,
   "metadata": {},
   "outputs": [
    {
     "name": "stdout",
     "output_type": "stream",
     "text": [
      "the error is :  not writable\n"
     ]
    }
   ],
   "source": [
    "file = open(\"newFile.txt\" , 'r')\n",
    "try:\n",
    "    file.write(\"this is a test!!\")\n",
    "except Exception as e:\n",
    "    print(\"the error is : \" , e)\n",
    "finally:\n",
    "    file.close()"
   ]
  },
  {
   "cell_type": "markdown",
   "metadata": {},
   "source": [
    "## method 2 "
   ]
  },
  {
   "cell_type": "code",
   "execution_count": 2,
   "metadata": {},
   "outputs": [
    {
     "name": "stdout",
     "output_type": "stream",
     "text": [
      "the error is :  I/O operation on closed file.\n"
     ]
    }
   ],
   "source": [
    "with open(\"newFile.txt\" , 'r') as f:\n",
    "    try:\n",
    "        file.write(\"this is a test!!\")\n",
    "    except Exception as e:\n",
    "        print(\"the error is : \" , e)\n",
    "    finally:\n",
    "        with open(\"newFile.txt\" , 'r+') as fNew:\n",
    "            fNew.write(\" i am vivek \")"
   ]
  },
  {
   "cell_type": "markdown",
   "metadata": {},
   "source": [
    "## method 3 "
   ]
  },
  {
   "cell_type": "code",
   "execution_count": 3,
   "metadata": {},
   "outputs": [
    {
     "name": "stdout",
     "output_type": "stream",
     "text": [
      "the error is :  not writable\n",
      "this is a default message\n"
     ]
    }
   ],
   "source": [
    "file = open(\"newFile.txt\" , 'r')\n",
    "try:\n",
    "    file.write(\"this is a test!!\")\n",
    "except Exception as e:\n",
    "    print(\"the error is : \" , e)\n",
    "finally:\n",
    "    print(\"this is a default message\")\n",
    "file.close()"
   ]
  },
  {
   "cell_type": "markdown",
   "metadata": {},
   "source": [
    "# Q2"
   ]
  },
  {
   "cell_type": "code",
   "execution_count": 4,
   "metadata": {
    "scrolled": true
   },
   "outputs": [
    {
     "name": "stdout",
     "output_type": "stream",
     "text": [
      "Requirement already satisfied: pylint in c:\\users\\manda\\anaconda3\\lib\\site-packages (2.4.4)\n",
      "Requirement already satisfied: astroid<2.4,>=2.3.0 in c:\\users\\manda\\anaconda3\\lib\\site-packages (from pylint) (2.3.3)\n",
      "Requirement already satisfied: mccabe<0.7,>=0.6 in c:\\users\\manda\\anaconda3\\lib\\site-packages (from pylint) (0.6.1)\n",
      "Requirement already satisfied: colorama; sys_platform == \"win32\" in c:\\users\\manda\\anaconda3\\lib\\site-packages (from pylint) (0.4.3)\n",
      "Requirement already satisfied: isort<5,>=4.2.5 in c:\\users\\manda\\anaconda3\\lib\\site-packages (from pylint) (4.3.21)\n",
      "Requirement already satisfied: six~=1.12 in c:\\users\\manda\\anaconda3\\lib\\site-packages (from astroid<2.4,>=2.3.0->pylint) (1.14.0)\n",
      "Requirement already satisfied: lazy-object-proxy==1.4.* in c:\\users\\manda\\anaconda3\\lib\\site-packages (from astroid<2.4,>=2.3.0->pylint) (1.4.3)\n",
      "Requirement already satisfied: wrapt==1.11.* in c:\\users\\manda\\anaconda3\\lib\\site-packages (from astroid<2.4,>=2.3.0->pylint) (1.11.2)\n",
      "Requirement already satisfied: typed-ast<1.5,>=1.4.0; implementation_name == \"cpython\" and python_version < \"3.8\" in c:\\users\\manda\\anaconda3\\lib\\site-packages (from astroid<2.4,>=2.3.0->pylint) (1.4.1)\n"
     ]
    }
   ],
   "source": [
    "!pip install pylint"
   ]
  },
  {
   "cell_type": "code",
   "execution_count": 7,
   "metadata": {},
   "outputs": [
    {
     "name": "stdout",
     "output_type": "stream",
     "text": [
      "Overwriting prime.py\n"
     ]
    }
   ],
   "source": [
    "%%writefile prime.py\n",
    "'''\n",
    "    this is a test file\n",
    "'''\n",
    "def prime_no(n):\n",
    "    '''\n",
    "        this is a function to check if a no. is a prime no. or not\n",
    "    '''\n",
    "    n = int(input(\"enter the number 'n' \"))\n",
    "    if n > 1:\n",
    "        for i in range(2, n):\n",
    "            if(n%i) == 0:\n",
    "                print(\"not a prime no: \", n)\n",
    "                break\n",
    "            else:\n",
    "                print(\"it's a prime no. \",n)\n",
    "    else:\n",
    "        print(\" not a prime no: \", n)\n",
    "                "
   ]
  },
  {
   "cell_type": "code",
   "execution_count": 8,
   "metadata": {},
   "outputs": [
    {
     "name": "stdout",
     "output_type": "stream",
     "text": [
      "************* Module prime\n",
      "prime.py:15:41: C0326: Exactly one space required after comma\n",
      "                print(\"it's a prime no. \",n)\n",
      "\n",
      "                                         ^ (bad-whitespace)\n",
      "prime.py:18:0: C0303: Trailing whitespace (trailing-whitespace)\n",
      "prime.py:4:0: C0103: Argument name \"n\" doesn't conform to snake_case naming style (invalid-name)\n",
      "prime.py:11:12: R1723: Unnecessary \"else\" after \"break\" (no-else-break)\n",
      "\n",
      "------------------------------------------------------------------\n",
      "\n",
      "Your code has been rated at 5.56/10 (previous run: 5.56/10, +0.00)\n",
      "\n",
      "\n",
      "\n"
     ]
    }
   ],
   "source": [
    "!pylint prime.py"
   ]
  },
  {
   "cell_type": "code",
   "execution_count": 9,
   "metadata": {},
   "outputs": [
    {
     "name": "stdout",
     "output_type": "stream",
     "text": [
      "Overwriting prime_test.py\n"
     ]
    }
   ],
   "source": [
    "%%writefile prime_test.py\n",
    "\n",
    "import unittest\n",
    "import prime\n",
    "\n",
    "class primeTest(unittest.TestCase):\n",
    "    def test1(self):\n",
    "        temp_n = 2\n",
    "        result = prime.prime_no(temp_n)\n",
    "        self.assertEqual(result, prime_no(2))\n",
    "    def test2(self):\n",
    "        temp_n = 17\n",
    "        result = prime.prime_no(temp_n)\n",
    "        self.assertEqual(result, prime_no(17))\n",
    "        \n",
    "if __name__ == '__main__':\n",
    "        unittest.main()"
   ]
  },
  {
   "cell_type": "code",
   "execution_count": null,
   "metadata": {},
   "outputs": [],
   "source": [
    "!python prime_test.py"
   ]
  }
 ],
 "metadata": {
  "kernelspec": {
   "display_name": "Python 3",
   "language": "python",
   "name": "python3"
  },
  "language_info": {
   "codemirror_mode": {
    "name": "ipython",
    "version": 3
   },
   "file_extension": ".py",
   "mimetype": "text/x-python",
   "name": "python",
   "nbconvert_exporter": "python",
   "pygments_lexer": "ipython3",
   "version": "3.7.6"
  }
 },
 "nbformat": 4,
 "nbformat_minor": 4
}
