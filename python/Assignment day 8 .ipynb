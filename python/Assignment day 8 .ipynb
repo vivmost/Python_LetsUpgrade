{
 "cells": [
  {
   "cell_type": "markdown",
   "metadata": {},
   "source": [
    "# Q1 "
   ]
  },
  {
   "cell_type": "code",
   "execution_count": 118,
   "metadata": {},
   "outputs": [],
   "source": [
    "def decoratorFunc():\n",
    "    num1 = int(input(\"enter first fibonacci no. from where you want to start: \"))\n",
    "    num2 = int(input(\"enter the just next fibinacci no. acc to num1: \"))\n",
    "    range_1 = int(input(\"enter the amount of no. you want: \"))\n",
    "    arg(num1 , num2 , range_1)\n",
    "    return decoratorFunc"
   ]
  },
  {
   "cell_type": "code",
   "execution_count": 119,
   "metadata": {},
   "outputs": [],
   "source": [
    "@inputCode\n",
    "def fibonacci(num1, num2 , range_1):\n",
    "    a = num1\n",
    "    b = num2\n",
    "    print(a , \" \")\n",
    "    print(b , \" \")\n",
    "    result = 0\n",
    "    for i in range(range_1 - 2):\n",
    "        result = a + b\n",
    "        a = b  \n",
    "        b = result\n",
    "        print(result , \" \")\n"
   ]
  },
  {
   "cell_type": "code",
   "execution_count": 120,
   "metadata": {},
   "outputs": [
    {
     "name": "stdout",
     "output_type": "stream",
     "text": [
      "enter first fibonacci no. from where you want to start: 1\n",
      "enter the just next fibinacci no. acc to num1: 2\n",
      "enter the amount of no. you want: 10\n",
      "1  \n",
      "2  \n",
      "3  \n",
      "5  \n",
      "8  \n",
      "13  \n",
      "21  \n",
      "34  \n",
      "55  \n",
      "89  \n"
     ]
    }
   ],
   "source": [
    "fibonacci()"
   ]
  },
  {
   "cell_type": "markdown",
   "metadata": {},
   "source": [
    "# Q2"
   ]
  },
  {
   "cell_type": "code",
   "execution_count": 121,
   "metadata": {},
   "outputs": [],
   "source": [
    "def armstrong(lower, upper):\n",
    "    for num in range(lower, upper + 1):\n",
    "        order = len(str(num))\n",
    "        result = 0\n",
    "        temp = num\n",
    "        while temp > 0:\n",
    "            digit = temp % 10\n",
    "            result += digit ** order\n",
    "            temp //= 10\n",
    "        \n",
    "        if(num == result):\n",
    "            yield result"
   ]
  },
  {
   "cell_type": "code",
   "execution_count": 122,
   "metadata": {},
   "outputs": [],
   "source": [
    "x = armstrong(1,1000)"
   ]
  },
  {
   "cell_type": "code",
   "execution_count": 123,
   "metadata": {},
   "outputs": [
    {
     "name": "stdout",
     "output_type": "stream",
     "text": [
      "[1, 2, 3, 4, 5, 6, 7, 8, 9, 153, 370, 371, 407]\n"
     ]
    }
   ],
   "source": [
    "print(list(x))"
   ]
  }
 ],
 "metadata": {
  "kernelspec": {
   "display_name": "Python 3",
   "language": "python",
   "name": "python3"
  },
  "language_info": {
   "codemirror_mode": {
    "name": "ipython",
    "version": 3
   },
   "file_extension": ".py",
   "mimetype": "text/x-python",
   "name": "python",
   "nbconvert_exporter": "python",
   "pygments_lexer": "ipython3",
   "version": "3.7.6"
  }
 },
 "nbformat": 4,
 "nbformat_minor": 4
}
