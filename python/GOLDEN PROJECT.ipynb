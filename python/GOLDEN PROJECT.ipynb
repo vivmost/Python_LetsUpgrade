{
 "cells": [
  {
   "cell_type": "markdown",
   "metadata": {},
   "source": [
    "# method 1\n"
   ]
  },
  {
   "cell_type": "code",
   "execution_count": 62,
   "metadata": {},
   "outputs": [
    {
     "name": "stdout",
     "output_type": "stream",
     "text": [
      "5\n",
      "1 2 3 4 5 \n",
      "answer= 120\n"
     ]
    }
   ],
   "source": [
    "N = int(input())\n",
    "A = []\n",
    "answer = 1\n",
    "if(N>0 and N<104):\n",
    "    for i in range(N):\n",
    "        A.append(i+1)\n",
    "        print(A[i], end = \" \")\n",
    "else:\n",
    "    pass  \n",
    "\n",
    "for i in range (N):\n",
    "    answer = (answer*A[i]) % (10**9 + 7)\n",
    "    \n",
    "print(\"\\nanswer=\",answer)\n"
   ]
  },
  {
   "cell_type": "markdown",
   "metadata": {},
   "source": [
    "# method 2 "
   ]
  },
  {
   "cell_type": "code",
   "execution_count": 68,
   "metadata": {},
   "outputs": [],
   "source": [
    "def proj():\n",
    "    N = int(input())\n",
    "    A = []\n",
    "    answer = 1\n",
    "    if(N>0 and N<104):\n",
    "        for i in range(N):\n",
    "            A.append(i+1)\n",
    "            print(A[i], end = \" \")\n",
    "    else:\n",
    "        pass  \n",
    "\n",
    "    for i in range (N):\n",
    "        answer = (answer*A[i]) % (10**9 + 7)\n",
    "    \n",
    "    print(\"\\nanswer=\",answer)"
   ]
  },
  {
   "cell_type": "code",
   "execution_count": 69,
   "metadata": {},
   "outputs": [
    {
     "name": "stdout",
     "output_type": "stream",
     "text": [
      "5\n",
      "1 2 3 4 5 \n",
      "answer= 120\n"
     ]
    }
   ],
   "source": [
    "proj()"
   ]
  },
  {
   "cell_type": "markdown",
   "metadata": {},
   "source": [
    "#  method 3"
   ]
  },
  {
   "cell_type": "code",
   "execution_count": 74,
   "metadata": {},
   "outputs": [],
   "source": [
    "def proj_return():\n",
    "    N = int(input())\n",
    "    A = []\n",
    "    answer = 1\n",
    "    if(N>0 and N<104):\n",
    "        for i in range(N):\n",
    "            A.append(i+1)\n",
    "            print(A[i], end = \" \")\n",
    "    else:\n",
    "        pass  \n",
    "\n",
    "    for i in range (N):\n",
    "        answer = (answer*A[i]) % (10**9 + 7)\n",
    "    \n",
    "    return answer"
   ]
  },
  {
   "cell_type": "code",
   "execution_count": 75,
   "metadata": {},
   "outputs": [
    {
     "name": "stdout",
     "output_type": "stream",
     "text": [
      "5\n",
      "1 2 3 4 5 "
     ]
    },
    {
     "data": {
      "text/plain": [
       "120"
      ]
     },
     "execution_count": 75,
     "metadata": {},
     "output_type": "execute_result"
    }
   ],
   "source": [
    "proj_return()"
   ]
  }
 ],
 "metadata": {
  "kernelspec": {
   "display_name": "Python 3",
   "language": "python",
   "name": "python3"
  },
  "language_info": {
   "codemirror_mode": {
    "name": "ipython",
    "version": 3
   },
   "file_extension": ".py",
   "mimetype": "text/x-python",
   "name": "python",
   "nbconvert_exporter": "python",
   "pygments_lexer": "ipython3",
   "version": "3.7.6"
  }
 },
 "nbformat": 4,
 "nbformat_minor": 4
}
