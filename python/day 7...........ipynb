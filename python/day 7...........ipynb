{
 "cells": [
  {
   "cell_type": "code",
   "execution_count": 1,
   "metadata": {},
   "outputs": [
    {
     "name": "stdout",
     "output_type": "stream",
     "text": [
      "Requirement already satisfied: pylint in c:\\users\\manda\\anaconda3\\lib\\site-packages (2.4.4)\n",
      "Requirement already satisfied: astroid<2.4,>=2.3.0 in c:\\users\\manda\\anaconda3\\lib\\site-packages (from pylint) (2.3.3)\n",
      "Requirement already satisfied: isort<5,>=4.2.5 in c:\\users\\manda\\anaconda3\\lib\\site-packages (from pylint) (4.3.21)\n",
      "Requirement already satisfied: mccabe<0.7,>=0.6 in c:\\users\\manda\\anaconda3\\lib\\site-packages (from pylint) (0.6.1)\n",
      "Requirement already satisfied: colorama; sys_platform == \"win32\" in c:\\users\\manda\\anaconda3\\lib\\site-packages (from pylint) (0.4.3)\n",
      "Requirement already satisfied: lazy-object-proxy==1.4.* in c:\\users\\manda\\anaconda3\\lib\\site-packages (from astroid<2.4,>=2.3.0->pylint) (1.4.3)\n",
      "Requirement already satisfied: six~=1.12 in c:\\users\\manda\\anaconda3\\lib\\site-packages (from astroid<2.4,>=2.3.0->pylint) (1.14.0)\n",
      "Requirement already satisfied: wrapt==1.11.* in c:\\users\\manda\\anaconda3\\lib\\site-packages (from astroid<2.4,>=2.3.0->pylint) (1.11.2)\n",
      "Collecting typed-ast<1.5,>=1.4.0; implementation_name == \"cpython\" and python_version < \"3.8\"\n",
      "  Downloading typed_ast-1.4.1-cp37-cp37m-win_amd64.whl (155 kB)\n",
      "Installing collected packages: typed-ast\n",
      "Successfully installed typed-ast-1.4.1\n"
     ]
    }
   ],
   "source": [
    "!pip install pylint"
   ]
  },
  {
   "cell_type": "code",
   "execution_count": 14,
   "metadata": {},
   "outputs": [
    {
     "name": "stdout",
     "output_type": "stream",
     "text": [
      "Overwriting treebox.py\n"
     ]
    }
   ],
   "source": [
    "%%writefile treebox.py\n",
    "\n",
    "A = 1 \n",
    "B = 0 \n",
    "sum = A + B\n",
    "print(sum)"
   ]
  },
  {
   "cell_type": "code",
   "execution_count": 15,
   "metadata": {},
   "outputs": [
    {
     "name": "stdout",
     "output_type": "stream",
     "text": [
      "************* Module treebox\n",
      "treebox.py:2:5: C0303: Trailing whitespace (trailing-whitespace)\n",
      "treebox.py:3:5: C0303: Trailing whitespace (trailing-whitespace)\n",
      "treebox.py:1:0: C0114: Missing module docstring (missing-module-docstring)\n",
      "treebox.py:4:0: W0622: Redefining built-in 'sum' (redefined-builtin)\n",
      "treebox.py:4:0: C0103: Constant name \"sum\" doesn't conform to UPPER_CASE naming style (invalid-name)\n",
      "\n",
      "--------------------------------------------------------------------\n",
      "\n",
      "Your code has been rated at -2.50/10 (previous run: -2.50/10, +0.00)\n",
      "\n",
      "\n",
      "\n"
     ]
    }
   ],
   "source": [
    "!pylint treebox.py\n"
   ]
  },
  {
   "cell_type": "markdown",
   "metadata": {},
   "source": [
    "# q1"
   ]
  },
  {
   "cell_type": "code",
   "execution_count": 5,
   "metadata": {},
   "outputs": [
    {
     "name": "stdout",
     "output_type": "stream",
     "text": [
      "the error is :  not writable\n"
     ]
    }
   ],
   "source": [
    "file = open(\"newFile.txt\" , 'r')\n",
    "try:\n",
    "    file.write(\"this is a test!!\")\n",
    "except Exception as e:\n",
    "    print(\"the error is : \" , e)\n",
    "finally:\n",
    "    file.close()"
   ]
  },
  {
   "cell_type": "markdown",
   "metadata": {},
   "source": [
    "# Q2 "
   ]
  },
  {
   "cell_type": "code",
   "execution_count": 6,
   "metadata": {},
   "outputs": [
    {
     "name": "stdout",
     "output_type": "stream",
     "text": [
      "Requirement already satisfied: pylint in c:\\users\\manda\\anaconda3\\lib\\site-packages (2.4.4)\n",
      "Requirement already satisfied: isort<5,>=4.2.5 in c:\\users\\manda\\anaconda3\\lib\\site-packages (from pylint) (4.3.21)\n",
      "Requirement already satisfied: mccabe<0.7,>=0.6 in c:\\users\\manda\\anaconda3\\lib\\site-packages (from pylint) (0.6.1)\n",
      "Requirement already satisfied: colorama; sys_platform == \"win32\" in c:\\users\\manda\\anaconda3\\lib\\site-packages (from pylint) (0.4.3)\n",
      "Requirement already satisfied: astroid<2.4,>=2.3.0 in c:\\users\\manda\\anaconda3\\lib\\site-packages (from pylint) (2.3.3)\n",
      "Requirement already satisfied: wrapt==1.11.* in c:\\users\\manda\\anaconda3\\lib\\site-packages (from astroid<2.4,>=2.3.0->pylint) (1.11.2)\n",
      "Requirement already satisfied: typed-ast<1.5,>=1.4.0; implementation_name == \"cpython\" and python_version < \"3.8\" in c:\\users\\manda\\anaconda3\\lib\\site-packages (from astroid<2.4,>=2.3.0->pylint) (1.4.1)\n",
      "Requirement already satisfied: lazy-object-proxy==1.4.* in c:\\users\\manda\\anaconda3\\lib\\site-packages (from astroid<2.4,>=2.3.0->pylint) (1.4.3)\n",
      "Requirement already satisfied: six~=1.12 in c:\\users\\manda\\anaconda3\\lib\\site-packages (from astroid<2.4,>=2.3.0->pylint) (1.14.0)\n"
     ]
    }
   ],
   "source": [
    "!pip install pylint"
   ]
  },
  {
   "cell_type": "code",
   "execution_count": 22,
   "metadata": {},
   "outputs": [],
   "source": [
    "import unittest"
   ]
  },
  {
   "cell_type": "code",
   "execution_count": 23,
   "metadata": {},
   "outputs": [
    {
     "name": "stdout",
     "output_type": "stream",
     "text": [
      "Overwriting prime_no.py\n"
     ]
    }
   ],
   "source": [
    "%%writefile prime_no.py\n",
    "isPrime = True\n",
    "def prime():\n",
    "    num = int(input(\"enter the no. 'n' : \"))\n",
    "    x = 2\n",
    "    if(num<2):\n",
    "        isprime = False\n",
    "        print( num, \"is not a prime no.\")\n",
    "    else:\n",
    "        for i in range(x,num+1):\n",
    "            if(num == x):\n",
    "                isPrime = True\n",
    "                print(\"2 is a prime no.\")\n",
    "                break\n",
    "            elif(num%i == 0):\n",
    "                isPrime = False\n",
    "                print( num, \" is not a prime no.\")\n",
    "                break\n",
    "            else:\n",
    "                isPrime = True\n",
    "                print( num, \"is a prime no.\")\n",
    "                break\n",
    "    "
   ]
  },
  {
   "cell_type": "code",
   "execution_count": 24,
   "metadata": {},
   "outputs": [
    {
     "ename": "NameError",
     "evalue": "name 'prime' is not defined",
     "output_type": "error",
     "traceback": [
      "\u001b[1;31m---------------------------------------------------------------------------\u001b[0m",
      "\u001b[1;31mNameError\u001b[0m                                 Traceback (most recent call last)",
      "\u001b[1;32m<ipython-input-24-8cd9dbf8a08f>\u001b[0m in \u001b[0;36m<module>\u001b[1;34m\u001b[0m\n\u001b[1;32m----> 1\u001b[1;33m \u001b[0mprime\u001b[0m\u001b[1;33m(\u001b[0m\u001b[1;33m)\u001b[0m\u001b[1;33m\u001b[0m\u001b[1;33m\u001b[0m\u001b[0m\n\u001b[0m",
      "\u001b[1;31mNameError\u001b[0m: name 'prime' is not defined"
     ]
    }
   ],
   "source": [
    "prime()"
   ]
  },
  {
   "cell_type": "code",
   "execution_count": 25,
   "metadata": {},
   "outputs": [
    {
     "name": "stdout",
     "output_type": "stream",
     "text": [
      "************* Module prime_no\n",
      "prime_no.py:5:0: C0325: Unnecessary parens after 'if' keyword (superfluous-parens)\n",
      "prime_no.py:5:10: C0326: Exactly one space required around comparison\n",
      "    if(num<2):\n",
      "\n",
      "          ^ (bad-whitespace)\n",
      "prime_no.py:7:13: C0326: No space allowed after bracket\n",
      "        print( num, \"is not a prime no.\")\n",
      "\n",
      "             ^ (bad-whitespace)\n",
      "prime_no.py:9:24: C0326: Exactly one space required after comma\n",
      "        for i in range(x,num+1):\n",
      "\n",
      "                        ^ (bad-whitespace)\n",
      "prime_no.py:10:0: C0325: Unnecessary parens after 'if' keyword (superfluous-parens)\n",
      "prime_no.py:14:0: C0325: Unnecessary parens after 'elif' keyword (superfluous-parens)\n",
      "prime_no.py:16:21: C0326: No space allowed after bracket\n",
      "                print( num, \" is not a prime no.\")\n",
      "\n",
      "                     ^ (bad-whitespace)\n",
      "prime_no.py:20:21: C0326: No space allowed after bracket\n",
      "                print( num, \"is a prime no.\")\n",
      "\n",
      "                     ^ (bad-whitespace)\n",
      "prime_no.py:22:0: C0303: Trailing whitespace (trailing-whitespace)\n",
      "prime_no.py:1:0: C0114: Missing module docstring (missing-module-docstring)\n",
      "prime_no.py:1:0: C0103: Constant name \"isPrime\" doesn't conform to UPPER_CASE naming style (invalid-name)\n",
      "prime_no.py:2:0: C0116: Missing function or method docstring (missing-function-docstring)\n",
      "prime_no.py:11:16: W0621: Redefining name 'isPrime' from outer scope (line 1) (redefined-outer-name)\n",
      "prime_no.py:4:4: C0103: Variable name \"x\" doesn't conform to snake_case naming style (invalid-name)\n",
      "prime_no.py:10:12: R1723: Unnecessary \"elif\" after \"break\" (no-else-break)\n",
      "prime_no.py:11:16: C0103: Variable name \"isPrime\" doesn't conform to snake_case naming style (invalid-name)\n",
      "prime_no.py:15:16: C0103: Variable name \"isPrime\" doesn't conform to snake_case naming style (invalid-name)\n",
      "prime_no.py:19:16: C0103: Variable name \"isPrime\" doesn't conform to snake_case naming style (invalid-name)\n",
      "prime_no.py:6:8: W0612: Unused variable 'isprime' (unused-variable)\n",
      "prime_no.py:11:16: W0612: Unused variable 'isPrime' (unused-variable)\n",
      "\n",
      "-------------------------------------------------------------------\n",
      "\n",
      "Your code has been rated at -0.53/10 (previous run: 0.71/10, -1.24)\n",
      "\n",
      "\n",
      "\n"
     ]
    }
   ],
   "source": [
    "! pylint prime_no.py"
   ]
  },
  {
   "cell_type": "code",
   "execution_count": 29,
   "metadata": {},
   "outputs": [
    {
     "name": "stdout",
     "output_type": "stream",
     "text": [
      "Writing primeNo_testing.py\n"
     ]
    }
   ],
   "source": [
    "%%writefile primeNo_testing.py \n",
    "import unittest\n",
    "import prime_no\n",
    "\n",
    "class primeTesting(unittest, TestCase):\n",
    "    def primeTest1(self):\n",
    "        temp_num = 2\n",
    "        result = primeNo.primeno(temp_num)\n",
    "        self.assertAlmostEqual(result, 2)\n",
    "        \n",
    "    def primeTest2(self):\n",
    "        temp_num = 17\n",
    "        result = primeNo.primeno(temp_num)\n",
    "        self.assertAlmostEqual(result, 17)\n",
    "\n",
    "if __name__ == \"__main__\":\n",
    "    unittest.main()"
   ]
  },
  {
   "cell_type": "code",
   "execution_count": null,
   "metadata": {},
   "outputs": [],
   "source": []
  },
  {
   "cell_type": "code",
   "execution_count": null,
   "metadata": {},
   "outputs": [],
   "source": []
  },
  {
   "cell_type": "code",
   "execution_count": null,
   "metadata": {},
   "outputs": [],
   "source": []
  },
  {
   "cell_type": "code",
   "execution_count": null,
   "metadata": {},
   "outputs": [],
   "source": []
  },
  {
   "cell_type": "code",
   "execution_count": 27,
   "metadata": {},
   "outputs": [
    {
     "name": "stdout",
     "output_type": "stream",
     "text": [
      "Overwriting prime_no.py\n"
     ]
    }
   ],
   "source": [
    "%%writefile prime_no.py\n",
    "def prime():\n",
    "    num = int(input(\"enter the no. 'n' : \"))\n",
    "    x = 2\n",
    "    if(num<2):\n",
    "        print( num, \"is not a prime no.\")\n",
    "    else:\n",
    "        for i in range(x, num+1):\n",
    "            if(num == x):\n",
    "                print(\"2 is a prime no.\")\n",
    "                break\n",
    "            elif(num%i == 0):\n",
    "                print( num, \" is not a prime no.\")\n",
    "                break\n",
    "            else:\n",
    "                print( num, \"is a prime no.\")\n",
    "                break\n",
    "    "
   ]
  },
  {
   "cell_type": "code",
   "execution_count": 28,
   "metadata": {},
   "outputs": [
    {
     "ename": "NameError",
     "evalue": "name 'prime' is not defined",
     "output_type": "error",
     "traceback": [
      "\u001b[1;31m---------------------------------------------------------------------------\u001b[0m",
      "\u001b[1;31mNameError\u001b[0m                                 Traceback (most recent call last)",
      "\u001b[1;32m<ipython-input-28-8cd9dbf8a08f>\u001b[0m in \u001b[0;36m<module>\u001b[1;34m\u001b[0m\n\u001b[1;32m----> 1\u001b[1;33m \u001b[0mprime\u001b[0m\u001b[1;33m(\u001b[0m\u001b[1;33m)\u001b[0m\u001b[1;33m\u001b[0m\u001b[1;33m\u001b[0m\u001b[0m\n\u001b[0m",
      "\u001b[1;31mNameError\u001b[0m: name 'prime' is not defined"
     ]
    }
   ],
   "source": [
    "prime()"
   ]
  },
  {
   "cell_type": "code",
   "execution_count": null,
   "metadata": {},
   "outputs": [],
   "source": [
    "                "
   ]
  },
  {
   "cell_type": "code",
   "execution_count": null,
   "metadata": {},
   "outputs": [],
   "source": []
  },
  {
   "cell_type": "code",
   "execution_count": null,
   "metadata": {},
   "outputs": [],
   "source": []
  }
 ],
 "metadata": {
  "kernelspec": {
   "display_name": "Python 3",
   "language": "python",
   "name": "python3"
  },
  "language_info": {
   "codemirror_mode": {
    "name": "ipython",
    "version": 3
   },
   "file_extension": ".py",
   "mimetype": "text/x-python",
   "name": "python",
   "nbconvert_exporter": "python",
   "pygments_lexer": "ipython3",
   "version": "3.7.6"
  }
 },
 "nbformat": 4,
 "nbformat_minor": 4
}
