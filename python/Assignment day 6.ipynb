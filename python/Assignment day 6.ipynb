{
 "cells": [
  {
   "cell_type": "markdown",
   "metadata": {},
   "source": [
    "# Q1"
   ]
  },
  {
   "cell_type": "code",
   "execution_count": 26,
   "metadata": {},
   "outputs": [],
   "source": [
    "class account():\n",
    "    ownerName =\" \"\n",
    "    balance = 0\n",
    "    \n",
    "    def __init__(self, ownerName , balance):\n",
    "        self.ownerName = ownerName\n",
    "        self.balance = balance\n",
    "        \n",
    "    def deposit(self,newDeposit):\n",
    "        self.balance += newDeposit\n",
    "        print(\"credited amt. is \", newDeposit)\n",
    "        \n",
    "    def withdraw( self, newWithdrawl):\n",
    "        if(self.balance>= newWithdrawl):\n",
    "            self.balance -= newWithdrawl\n",
    "            print(\"withdrawn amt. is \",newWithdrawl)\n",
    "        else:\n",
    "            print(\"not enough balance\")\n",
    "                \n",
    "    def updateBalance(self):\n",
    "        print(\"the current balance is \", self.balance)"
   ]
  },
  {
   "cell_type": "code",
   "execution_count": 27,
   "metadata": {},
   "outputs": [],
   "source": [
    "person = account(\"vivek\", 2000)"
   ]
  },
  {
   "cell_type": "code",
   "execution_count": 28,
   "metadata": {},
   "outputs": [
    {
     "data": {
      "text/plain": [
       "'vivek'"
      ]
     },
     "execution_count": 28,
     "metadata": {},
     "output_type": "execute_result"
    }
   ],
   "source": [
    "person.ownerName"
   ]
  },
  {
   "cell_type": "code",
   "execution_count": 29,
   "metadata": {},
   "outputs": [
    {
     "data": {
      "text/plain": [
       "2000"
      ]
     },
     "execution_count": 29,
     "metadata": {},
     "output_type": "execute_result"
    }
   ],
   "source": [
    "person.balance"
   ]
  },
  {
   "cell_type": "code",
   "execution_count": 30,
   "metadata": {},
   "outputs": [
    {
     "name": "stdout",
     "output_type": "stream",
     "text": [
      "credited amt. is  3000\n"
     ]
    }
   ],
   "source": [
    "person.deposit(3000)"
   ]
  },
  {
   "cell_type": "code",
   "execution_count": 31,
   "metadata": {},
   "outputs": [
    {
     "name": "stdout",
     "output_type": "stream",
     "text": [
      "the current balance is  5000\n"
     ]
    }
   ],
   "source": [
    "person.updateBalance()"
   ]
  },
  {
   "cell_type": "code",
   "execution_count": 32,
   "metadata": {},
   "outputs": [
    {
     "name": "stdout",
     "output_type": "stream",
     "text": [
      "withdrawn amt. is  5000\n"
     ]
    }
   ],
   "source": [
    "person.withdraw(5000)"
   ]
  },
  {
   "cell_type": "code",
   "execution_count": 33,
   "metadata": {},
   "outputs": [
    {
     "name": "stdout",
     "output_type": "stream",
     "text": [
      "the current balance is  0\n"
     ]
    }
   ],
   "source": [
    "person.updateBalance()"
   ]
  },
  {
   "cell_type": "code",
   "execution_count": 34,
   "metadata": {},
   "outputs": [
    {
     "name": "stdout",
     "output_type": "stream",
     "text": [
      "not enough balance\n"
     ]
    }
   ],
   "source": [
    "person.withdraw(1)"
   ]
  },
  {
   "cell_type": "code",
   "execution_count": 35,
   "metadata": {},
   "outputs": [
    {
     "name": "stdout",
     "output_type": "stream",
     "text": [
      "the current balance is  0\n"
     ]
    }
   ],
   "source": [
    "person.updateBalance()"
   ]
  },
  {
   "cell_type": "markdown",
   "metadata": {},
   "source": [
    "# Q2"
   ]
  },
  {
   "cell_type": "code",
   "execution_count": 36,
   "metadata": {},
   "outputs": [],
   "source": [
    "import math\n",
    "class cone():\n",
    "    radius = 0\n",
    "    height = 0\n",
    "    \n",
    "    def __init__(self , radius , height):\n",
    "        self.radius = radius\n",
    "        self.height = height\n",
    "        \n",
    "    def volume(self):\n",
    "        vol = (math.pi) * (self.radius**2) * (self.height/3)\n",
    "        print(\"The volume is \" , vol )\n",
    "    \n",
    "    def surfaceArea(self):\n",
    "        val = (self.radius**2) + (self.height**2)\n",
    "        baseArea = (math.pi) * (self.radius ** 2)\n",
    "        cSA = (math.pi) * (self.radius) *  (math.sqrt(val))\n",
    "        surface_area = baseArea + cSA\n",
    "        print(\"The surface area is \" , surface_area)"
   ]
  },
  {
   "cell_type": "code",
   "execution_count": 37,
   "metadata": {},
   "outputs": [],
   "source": [
    "mycone = cone(3,6)"
   ]
  },
  {
   "cell_type": "code",
   "execution_count": 38,
   "metadata": {},
   "outputs": [
    {
     "data": {
      "text/plain": [
       "3"
      ]
     },
     "execution_count": 38,
     "metadata": {},
     "output_type": "execute_result"
    }
   ],
   "source": [
    "mycone.radius"
   ]
  },
  {
   "cell_type": "code",
   "execution_count": 39,
   "metadata": {},
   "outputs": [
    {
     "data": {
      "text/plain": [
       "6"
      ]
     },
     "execution_count": 39,
     "metadata": {},
     "output_type": "execute_result"
    }
   ],
   "source": [
    "mycone.height"
   ]
  },
  {
   "cell_type": "code",
   "execution_count": 40,
   "metadata": {},
   "outputs": [
    {
     "name": "stdout",
     "output_type": "stream",
     "text": [
      "The volume is  56.548667764616276\n"
     ]
    }
   ],
   "source": [
    "mycone.volume()"
   ]
  },
  {
   "cell_type": "code",
   "execution_count": 41,
   "metadata": {},
   "outputs": [
    {
     "name": "stdout",
     "output_type": "stream",
     "text": [
      "The surface area is  91.49766646167468\n"
     ]
    }
   ],
   "source": [
    "mycone.surfaceArea()"
   ]
  }
 ],
 "metadata": {
  "kernelspec": {
   "display_name": "Python 3",
   "language": "python",
   "name": "python3"
  },
  "language_info": {
   "codemirror_mode": {
    "name": "ipython",
    "version": 3
   },
   "file_extension": ".py",
   "mimetype": "text/x-python",
   "name": "python",
   "nbconvert_exporter": "python",
   "pygments_lexer": "ipython3",
   "version": "3.7.6"
  }
 },
 "nbformat": 4,
 "nbformat_minor": 4
}
